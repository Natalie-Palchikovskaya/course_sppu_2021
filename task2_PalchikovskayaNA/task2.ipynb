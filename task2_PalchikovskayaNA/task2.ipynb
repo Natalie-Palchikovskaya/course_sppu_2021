{
 "cells": [
  {
   "cell_type": "code",
   "execution_count": 1,
   "metadata": {},
   "outputs": [],
   "source": [
    "import sys\n",
    "sys.path.append('../')\n",
    "import uniflocpy.uPVT.PVT_fluids as PVT\n",
    "import matplotlib.pyplot as plt\n",
    "import numpy as np\n",
    "import uniflocpy.uPVT.PVT_correlations as PVTcorr\n",
    "%matplotlib inline"
   ]
  },
  {
   "cell_type": "code",
   "execution_count": 2,
   "metadata": {},
   "outputs": [],
   "source": [
    "gamma_oil = 809 / 1000 #удельная плотность нефти\n",
    "gamma_wat = 1020 / 1000 #удельная плотность воды\n",
    "pbcal_bar = 296 * 1.01325 #атм->бар, давление насыщения\n",
    "\n",
    "flSt = PVT.FluidStanding(gamma_oil = gamma_oil, gamma_wat = gamma_wat, pbcal_bar = pbcal_bar)\n",
    "flMc = PVT.FluidMcCain(gamma_oil = gamma_oil, gamma_wat = gamma_wat, pbcal_bar = pbcal_bar)"
   ]
  },
  {
   "cell_type": "code",
   "execution_count": 3,
   "metadata": {},
   "outputs": [
    {
     "name": "stdout",
     "output_type": "stream",
     "text": [
      "oil [1.163407140444836, 1.0347669324787094]\n",
      "gas [0.013786253380609242, 0.01396367813189165]\n",
      "water [0.9826582426274554, 0.9826029221949222]\n",
      "oil [747.123255251485, 745.1135433973305]\n",
      "gas [75.85765683052821, 79.24342793424564]\n",
      "water [1002.2271207836761, 1002.3855220035855]\n"
     ]
    }
   ],
   "source": [
    "#Условия, при которых считаем\n",
    "p = 124 * 1.01325 #атм->бар\n",
    "t_C = 20\n",
    "\n",
    "#Вязкость\n",
    "mu_gas, mu_oil, mu_wat = [], [], []\n",
    "\n",
    "#Плотность\n",
    "rho_gas, rho_oil, rho_wat = [], [], []\n",
    "\n",
    "for fluid in [flSt,flMc]:  \n",
    "    fluid.calc(p, t_C)\n",
    "    mu_gas.append(fluid.mu_gas_cp)\n",
    "    mu_oil.append(fluid.mu_oil_cp)\n",
    "    mu_wat.append(fluid.mu_wat_cp)\n",
    "    \n",
    "    rho_gas.append(fluid.rho_gas_kgm3)\n",
    "    rho_oil.append(fluid.rho_oil_kgm3)\n",
    "    rho_wat.append(fluid.rho_wat_kgm3)\n",
    "    \n",
    "gas_viscosity_standing = mu_gas[0] \n",
    "oil_viscosity_standing = mu_oil[0]\n",
    "water_viscosity_standing = mu_wat[0] \n",
    "\n",
    "gas_density_standing = rho_gas[0]\n",
    "oil_density_standing = rho_oil[0]\n",
    "water_density_standing = rho_wat[0]\n",
    "\n",
    "\n",
    "gas_viscosity_mccain = mu_gas[1] \n",
    "oil_viscosity_mccain = mu_oil[1]\n",
    "water_viscosity_mccain = mu_wat[1] \n",
    "\n",
    "gas_density_mccain = rho_gas[1]\n",
    "oil_density_mccain = rho_oil[1]\n",
    "water_density_mccain = rho_wat[1]\n",
    "\n",
    "\n",
    "#Вязкость\n",
    "print(\"oil\",mu_oil)\n",
    "print(\"gas\",mu_gas)\n",
    "print(\"water\",mu_wat)\n",
    "\n",
    "#Плотность\n",
    "print(\"oil\",rho_oil)\n",
    "print(\"gas\",rho_gas)\n",
    "print(\"water\",rho_wat)"
   ]
  },
  {
   "cell_type": "code",
   "execution_count": 4,
   "metadata": {},
   "outputs": [
    {
     "name": "stdout",
     "output_type": "stream",
     "text": [
      "q_mix 87.8629474562996\n",
      "gas_fraction 0.29115744302409396\n",
      "mu_mix 0.7494922974623911\n",
      "rho_mix 663.4516774106287\n"
     ]
    }
   ],
   "source": [
    "#Cмесь по Standing\n",
    "Fluid_Standing = PVT.FluidFlow(fluid = flSt)\n",
    "Fluid_Standing.qliq_on_surface_m3day = 59 # дебит жидкости\n",
    "Fluid_Standing.fw_on_surface_perc = 65 #обводненность\n",
    "Fluid_Standing.d_m = 0.16 #внутренний диаметр \n",
    "Fluid_Standing.calc(p, t_C)\n",
    "\n",
    "mixture_q_standing = Fluid_Standing.q_mix_n_m3day\n",
    "gas_fraction_standing = Fluid_Standing.qgas_m3day / Fluid_Standing.q_mix_n_m3day\n",
    "mixture_viscosity_standing = Fluid_Standing.mun_cP\n",
    "mixture_density_standing = Fluid_Standing.rhon_kgm3\n",
    "\n",
    "print(\"q_mix\", mixture_q_standing)\n",
    "print(\"gas_fraction\",gas_fraction_standing)\n",
    "print(\"mu_mix\", mixture_viscosity_standing)\n",
    "print(\"rho_mix\", mixture_density_standing)"
   ]
  },
  {
   "cell_type": "code",
   "execution_count": 5,
   "metadata": {},
   "outputs": [
    {
     "name": "stdout",
     "output_type": "stream",
     "text": [
      "q_mix 84.93883915746989\n",
      "gas_fraction 0.26331055949681165\n",
      "mu_mix 0.7423339711314485\n",
      "rho_mix 686.3980816215337\n"
     ]
    },
    {
     "name": "stderr",
     "output_type": "stream",
     "text": [
      "C:\\Users\\Nat\\uniflocpy\\uPVT\\PVT_fluids.py:655: RuntimeWarning: invalid value encountered in double_scalars\n",
      "  self.number_pr_n = self.mun_cP * self.heatcapn_jkgc / self.thermal_conductn_wmk\n",
      "C:\\Users\\Nat\\uniflocpy\\uPVT\\PVT_fluids.py:521: RuntimeWarning: divide by zero encountered in double_scalars\n",
      "  return mix_JT_coef_heatcap / self.heatcapn_jkgc\n"
     ]
    }
   ],
   "source": [
    "#Cмесь считаем по Mccain\n",
    "Fluid_Mccain = PVT.FluidFlow(fluid = flMc)\n",
    "Fluid_Mccain.qliq_on_surface_m3day = 59 # дебит жидкости\n",
    "Fluid_Mccain.fw_on_surface_perc = 65 #обводненность\n",
    "Fluid_Mccain.d_m =0.16 #внутренний диаметр \n",
    "Fluid_Mccain.calc(p, t_C)\n",
    "\n",
    "mixture_q_mccain = Fluid_Mccain.q_mix_n_m3day\n",
    "gas_fraction_mccain = Fluid_Mccain.qgas_m3day / Fluid_Mccain.q_mix_n_m3day\n",
    "mixture_viscosity_mccain = Fluid_Mccain.mun_cP\n",
    "mixture_density_mccain = Fluid_Mccain.rhon_kgm3\n",
    "\n",
    "print(\"q_mix\", mixture_q_mccain)\n",
    "print(\"gas_fraction\",gas_fraction_mccain)\n",
    "print(\"mu_mix\", mixture_viscosity_mccain)\n",
    "print(\"rho_mix\", mixture_density_mccain)"
   ]
  },
  {
   "cell_type": "markdown",
   "metadata": {},
   "source": [
    "## Сравнение корреляций McCain и Standing\n",
    "\n",
    "Параметры, полученные путем использования корреляций McCain и Standing, отличаются по значению. Наименьшей относительной погрешностью обладают характеристики, вычисленные для воды.\n",
    "Наличие погрешностей связано с тем, что корреляционные зависимости выводятся посредством проведения большого количества экспериментов, и, как следствие, полученные выражения для параметров флюида привязаны к определенному географическому региону, на основе данных которого была получена зависимость. Также на точность могут влиять все погрешности, неизбежно сопровождающие экспериментальные исследования. "
   ]
  },
  {
   "cell_type": "code",
   "execution_count": 6,
   "metadata": {},
   "outputs": [],
   "source": [
    "#Задание 2 \n",
    "#Определить забойное давление в скважине. Фонтанирует ли? Построить vlp кривую 0-500м3/сут\n",
    "from multiprocessing import Pool\n",
    "import uniflocpy.uWell.mp_test as mp_test\n",
    "import uniflocpy.uWell.Self_flow_well as self_flow_well\n"
   ]
  },
  {
   "cell_type": "code",
   "execution_count": 7,
   "metadata": {},
   "outputs": [],
   "source": [
    "well_data = {\n",
    "\"gamma_oil\" : gamma_oil,\n",
    "\"gamma_wat\" : gamma_wat,\n",
    "    \n",
    "\"h_intake_mes_m\" : 2607.05, #H сп - глубина спуска насоса     \n",
    "\"h_intake_vert_m\": 2607.05, #-0  удлинение на глубине спуска, отсутствует    \n",
    "\"h_bottomhole_mes_m\" :3774,   #Hвдп; глубина текущего забоя 2698, можно взять глубину до дыр перфорации   \n",
    "\"h_bottomhole_vert_m\" :3774 - 744, #Hвдп - Удл    \n",
    "\"qliq_on_surface_m3day\": 59,\n",
    "\"fw_on_surface_perc\": 65,     \n",
    "\"d_casing_inner_m\" : 0.16,   \n",
    "\"d_tube_inner_m\" : 0.089 - 0.005,    \n",
    "'p_bottomhole_bar':218 * 1.01325, #Pзаб замеренное\n",
    "\"p_wellhead_bar\" : p,  \n",
    "\"t_wellhead_c\" : t_C,  \n",
    "    \n",
    "\"step_lenth_in_calc_along_wellbore_m\":50,\n",
    "                \"without_annulus_space\":False,\n",
    "\"fluid\":1, \n",
    "\"reservoir\":0,\n",
    "\"pipe\":0,\n",
    "\"temp_corr\":1,\n",
    "\"solver_using\":1}\n",
    "\n"
   ]
  },
  {
   "cell_type": "code",
   "execution_count": 8,
   "metadata": {},
   "outputs": [],
   "source": [
    "amount_of_threads = 5\n",
    "def create_data_to_mp(parameter_name_to_fill, parameter_values_to_fill, \n",
    "                      parameter_name_to_iterate=\"qliq_on_surface_m3day\",\n",
    "                      parameter_name_to_extract='p_bottomhole_bar',\n",
    "                      well_data=well_data, \n",
    "                      amount_of_threads=amount_of_threads, defined_range=range(0, 500, 15)):\n",
    "    to_mp = []\n",
    "    for i,j in zip(range(amount_of_threads), parameter_values_to_fill):\n",
    "        this_well_data = well_data.copy()\n",
    "        this_well_data[parameter_name_to_fill] = j\n",
    "        data = [self_flow_well.self_flow_well, this_well_data,defined_range , parameter_name_to_iterate,\n",
    "                                     parameter_name_to_extract, parameter_name_to_fill, j]\n",
    "        to_mp.append(data)\n",
    "    return to_mp\n",
    "\n",
    "def run_calculation(to_mp, func = mp_test.calc_well_with_one_parameter, amount_of_threads=amount_of_threads):\n",
    "    if __name__ == '__main__':\n",
    "        with Pool(amount_of_threads) as p:\n",
    "            result = p.map(func, to_mp)\n",
    "            \n",
    "    result_df  = None\n",
    "    for i in result:\n",
    "        try:\n",
    "            result_df = result_df.join(i, how = 'outer')\n",
    "        except:\n",
    "            result_df = i.copy()\n",
    "    return result_df"
   ]
  },
  {
   "cell_type": "code",
   "execution_count": 9,
   "metadata": {},
   "outputs": [
    {
     "name": "stdout",
     "output_type": "stream",
     "text": [
      "                       p_bottomhole_bar при gamma_oil = 0.809\n",
      "qliq_on_surface_m3day                                        \n",
      "59.0                                                380.93473\n",
      "380.9347296538447\n"
     ]
    }
   ],
   "source": [
    "#Определение забойной давления\n",
    "to_mp = create_data_to_mp(\"gamma_oil\", [gamma_oil], defined_range = np.linspace(59,59,1))\n",
    "result = run_calculation(to_mp)\n",
    "print(result)\n",
    "p_wf = result.to_numpy()[0,0]\n",
    "print(p_wf)"
   ]
  },
  {
   "cell_type": "markdown",
   "metadata": {},
   "source": [
    "## Фонтанирует ли скважина?\n",
    "Сделаем оценку возможности фонтанирования скважины, используя следующие \n",
    "предоположения:\n",
    "- смесь - идеальная жидкость\n",
    "- течение стационарное и баротропное \n",
    "\n",
    "\n",
    "Тогда воспользуемся интегралом Бернулли, значение которого сохраняется вдоль линии тока. Опишем два состояния: на глубине забоя и на поверхности.\n",
    "$$ p_{wf}= \\rho g z + \\frac{\\rho V ^ {2}}{2} + p_{buf}$$\n",
    "Или\n",
    "$$ p_{wf} - p_{buf}= \\rho g z + \\frac{\\rho V ^ {2}}{2}$$\n",
    "Таким образом, в данной постановке перепад давления расходуется на преодоление сил тяжести и на движение жидкости со скоростью V . Из представленных соотношений можем получить грубую оценку скорости движения смеси.\n"
   ]
  },
  {
   "cell_type": "code",
   "execution_count": 10,
   "metadata": {},
   "outputs": [
    {
     "name": "stdout",
     "output_type": "stream",
     "text": [
      "440.87743618152814 км/ч\n"
     ]
    }
   ],
   "source": [
    "delta_p = (p_wf - p)*10**5 #Перапад давления, Па\n",
    "v = np.sqrt(2 / mixture_density_mccain * (delta_p - mixture_density_mccain * 9.8 *\n",
    "                                  well_data[\"h_bottomhole_vert_m\"]))\n",
    "print(v*3600/1000, \"км/ч\")"
   ]
  },
  {
   "cell_type": "markdown",
   "metadata": {},
   "source": [
    "Скорость рассматриваемой идеальной жидкости составляет 440.8 км/ч, это говорит о том, что на устье смесь обладает большой энергией, способна продолжить преодолевать силу тяжести, следовательно, скважина фонтанирует."
   ]
  },
  {
   "cell_type": "code",
   "execution_count": 11,
   "metadata": {},
   "outputs": [
    {
     "data": {
      "text/html": [
       "<div>\n",
       "<style scoped>\n",
       "    .dataframe tbody tr th:only-of-type {\n",
       "        vertical-align: middle;\n",
       "    }\n",
       "\n",
       "    .dataframe tbody tr th {\n",
       "        vertical-align: top;\n",
       "    }\n",
       "\n",
       "    .dataframe thead th {\n",
       "        text-align: right;\n",
       "    }\n",
       "</style>\n",
       "<table border=\"1\" class=\"dataframe\">\n",
       "  <thead>\n",
       "    <tr style=\"text-align: right;\">\n",
       "      <th></th>\n",
       "      <th>p_bottomhole_bar при gamma_oil = 0.809</th>\n",
       "    </tr>\n",
       "    <tr>\n",
       "      <th>qliq_on_surface_m3day</th>\n",
       "      <th></th>\n",
       "    </tr>\n",
       "  </thead>\n",
       "  <tbody>\n",
       "    <tr>\n",
       "      <th>0.001000</th>\n",
       "      <td>382.274074</td>\n",
       "    </tr>\n",
       "    <tr>\n",
       "      <th>55.556444</th>\n",
       "      <td>381.100998</td>\n",
       "    </tr>\n",
       "    <tr>\n",
       "      <th>111.111889</th>\n",
       "      <td>376.928472</td>\n",
       "    </tr>\n",
       "    <tr>\n",
       "      <th>166.667333</th>\n",
       "      <td>376.206927</td>\n",
       "    </tr>\n",
       "    <tr>\n",
       "      <th>222.222778</th>\n",
       "      <td>376.599086</td>\n",
       "    </tr>\n",
       "    <tr>\n",
       "      <th>277.778222</th>\n",
       "      <td>377.275728</td>\n",
       "    </tr>\n",
       "    <tr>\n",
       "      <th>333.333667</th>\n",
       "      <td>379.865122</td>\n",
       "    </tr>\n",
       "    <tr>\n",
       "      <th>388.889111</th>\n",
       "      <td>382.787939</td>\n",
       "    </tr>\n",
       "    <tr>\n",
       "      <th>444.444556</th>\n",
       "      <td>384.231999</td>\n",
       "    </tr>\n",
       "    <tr>\n",
       "      <th>500.000000</th>\n",
       "      <td>384.227448</td>\n",
       "    </tr>\n",
       "  </tbody>\n",
       "</table>\n",
       "</div>"
      ],
      "text/plain": [
       "                       p_bottomhole_bar при gamma_oil = 0.809\n",
       "qliq_on_surface_m3day                                        \n",
       "0.001000                                           382.274074\n",
       "55.556444                                          381.100998\n",
       "111.111889                                         376.928472\n",
       "166.667333                                         376.206927\n",
       "222.222778                                         376.599086\n",
       "277.778222                                         377.275728\n",
       "333.333667                                         379.865122\n",
       "388.889111                                         382.787939\n",
       "444.444556                                         384.231999\n",
       "500.000000                                         384.227448"
      ]
     },
     "execution_count": 11,
     "metadata": {},
     "output_type": "execute_result"
    }
   ],
   "source": [
    "#Построение vlp кривой в диапазоне 0-500 м3/сут\n",
    "q_liq_vlp = np.linspace(0.001,500,10)\n",
    "to_mp = create_data_to_mp(\"gamma_oil\", [gamma_oil], defined_range = q_liq_vlp)\n",
    "result = run_calculation(to_mp)\n",
    "p_wf_vlp = result.to_numpy()[:,0]\n",
    "result"
   ]
  },
  {
   "cell_type": "code",
   "execution_count": 12,
   "metadata": {},
   "outputs": [
    {
     "data": {
      "image/png": "[encoded data removed]",
      "text/plain": [
       "<Figure size 432x288 with 1 Axes>"
      ]
     },
     "metadata": {
      "needs_background": "light"
     },
     "output_type": "display_data"
    }
   ],
   "source": [
    "plt.title(\"VLP кривая\")\n",
    "plt.ylabel(\"p_wf\")\n",
    "plt.xlabel(\"Q, м3/сут\")\n",
    "plt.plot(q_liq_vlp, p_wf_vlp)\n",
    "plt.grid()"
   ]
  },
  {
   "cell_type": "markdown",
   "metadata": {},
   "source": [
    "## VLP - кривая\n",
    "Отражает зависимость забойного давления от дебита скважины с учетом PVT-свойств, параметров скважины, обводненности, газового фактора. Показывает, сколько флюида может доставить на поверхность данная скважина."
   ]
  },
  {
   "cell_type": "code",
   "execution_count": 1,
   "metadata": {},
   "outputs": [],
   "source": [
    "#Задание 3\n",
    "# # подготовимся к импорту API который находится в родительской папке относительно этой тетрадки\n",
    "# import sys\n",
    "# sys.path.insert(0,'..')\n",
    "# import pandas as pd\n",
    "# # импортируем api\n",
    "# import unifloc_vba.unifloc_vba_python_api.python_api as python_api \n",
    "# В python_api очень много синтаксический ошибок\n",
    "\n",
    "# UniflocVBA = python_api.API(\"unifloc_vba/UniflocVBA_7.xlam\")\n",
    "# print(\"import excel with unifloc vba done. version \" + UniflocVBA.unf_version())"
   ]
  },
  {
   "cell_type": "code",
   "execution_count": 2,
   "metadata": {},
   "outputs": [],
   "source": [
    "# help(UniflocVBA.MF_p_pipeline_atma)"
   ]
  },
  {
   "cell_type": "code",
   "execution_count": 3,
   "metadata": {},
   "outputs": [],
   "source": [
    "# pvt_str_data = {\"gamma_gas\":0.6,\n",
    "# \"gamma_oil\":0.86,\n",
    "# \"gamma_wat\":1,\n",
    "# \"rsb_m3m3\":100,\n",
    "# \"rp_m3m3\":-1,\n",
    "# \"pb_atma\":-1,\n",
    "# \"t_res_C\":90,\n",
    "# \"bob_m3m3\":-1,\n",
    "# \"muob_cP\":-1,\n",
    "# \"PVTcorr\":0,\n",
    "# \"ksep_fr\":0,\n",
    "# \"p_ksep_atma\":-1,\n",
    "# \"t_ksep_C\":-1,\n",
    "# \"gas_only\":False\n",
    "#                }"
   ]
  },
  {
   "cell_type": "code",
   "execution_count": 4,
   "metadata": {},
   "outputs": [],
   "source": [
    "# pipeline_data = {\"p_calc_from_atma\": 20,\n",
    "# \"t_calc_from_C\": 20,\n",
    "# \"t_val\":40,\n",
    "# \"h_list_m\" : 2000,\n",
    "# \"diam_list_mm\" : 50,\n",
    "# \"qliq_sm3day\" : 100,\n",
    "# \"fw_perc\":25,\n",
    "# \"q_gas_sm3day\":0,\n",
    "# \"str_PVT\":UniflocVBA.PVT_encode_string(**pvt_str_data),\n",
    "# \"calc_flow_direction\":10,\n",
    "# \"hydr_corr\":0,\n",
    "# \"temp_method\":1,\n",
    "# \"c_calibr\":1,\n",
    "# \"roughness_m\":0.0001,\n",
    "# \"out_curves\":0,\n",
    "# \"out_curves_num_points\":2}"
   ]
  },
  {
   "cell_type": "code",
   "execution_count": 18,
   "metadata": {},
   "outputs": [],
   "source": [
    "#Cделано в excel (task2_3.xlsm)\n",
    "h = [0,199,397,596,795,993,1192,1390,1589,1788,1986,2185,2384,2582,2781,2979,3178,3377,3575,3774]\n",
    "flow_pattern = [0,0,0,0,0,0,0,0,0,0,0,0,0,0,0,0,0,0,0,0]"
   ]
  },
  {
   "cell_type": "code",
   "execution_count": 1,
   "metadata": {},
   "outputs": [
    {
     "ename": "NameError",
     "evalue": "name 'gas_fraction_standing' is not defined",
     "output_type": "error",
     "traceback": [
      "\u001b[1;31m---------------------------------------------------------------------------\u001b[0m",
      "\u001b[1;31mNameError\u001b[0m                                 Traceback (most recent call last)",
      "\u001b[1;32m<ipython-input-1-a7d912c2e941>\u001b[0m in \u001b[0;36m<module>\u001b[1;34m\u001b[0m\n\u001b[0;32m      1\u001b[0m \u001b[1;31m#Запись результата в файл\u001b[0m\u001b[1;33m\u001b[0m\u001b[1;33m\u001b[0m\u001b[0m\n\u001b[0;32m      2\u001b[0m \u001b[1;32mimport\u001b[0m \u001b[0mjson\u001b[0m\u001b[1;33m,\u001b[0m\u001b[0mcodecs\u001b[0m\u001b[1;33m\u001b[0m\u001b[0m\n\u001b[1;32m----> 3\u001b[1;33m result = {\"ex1\": {\"gas_fraction_standing\": gas_fraction_standing,\n\u001b[0m\u001b[0;32m      4\u001b[0m                   \u001b[1;34m\"q_mix_standing\"\u001b[0m\u001b[1;33m:\u001b[0m\u001b[0mmixture_q_standing\u001b[0m\u001b[1;33m,\u001b[0m\u001b[1;33m\u001b[0m\u001b[0m\n\u001b[0;32m      5\u001b[0m                   \u001b[1;34m\"gas_viscosity_standing\"\u001b[0m\u001b[1;33m:\u001b[0m\u001b[0mgas_viscosity_standing\u001b[0m\u001b[1;33m,\u001b[0m\u001b[1;33m\u001b[0m\u001b[0m\n",
      "\u001b[1;31mNameError\u001b[0m: name 'gas_fraction_standing' is not defined"
     ]
    }
   ],
   "source": [
    "#Запись результата в файл\n",
    "import json,codecs\n",
    "result = {\"ex1\": {\"gas_fraction_standing\": gas_fraction_standing,\n",
    "                  \"q_mix_standing\":mixture_q_standing, \n",
    "                  \"gas_viscosity_standing\":gas_viscosity_standing,\n",
    "                  \"gas_density_standing\":gas_density_standing,\n",
    "                  \"water_viscosity_standing\":water_viscosity_standing,\n",
    "                  \"water_density_standing\":water_density_standing,\n",
    "                  \"oil_viscosity_standing\":oil_viscosity_standing,\n",
    "                  \"oil_density_standing\":oil_density_standing,\n",
    "                  \"mixture_viscosity_standing\":mixture_viscosity_standing,\n",
    "                  \"mixture_density_standing\":mixture_density_standing,\n",
    "                  \"gas_fraction_mccain\":gas_fraction_mccain,\n",
    "                  \"q_mix_mccain\":mixture_q_mccain,\n",
    "                  \"gas_viscosity_mccain\":gas_viscosity_mccain,\n",
    "                  \"gas_density_mccain\":gas_density_mccain,\n",
    "                  \"water_viscosity_mccain\":water_viscosity_mccain,\n",
    "                  \"water_density_mccain\":water_density_mccain,\n",
    "                  \"oil_viscosity_mccain\":oil_viscosity_mccain,\n",
    "                  \"oil_density_mccain\":oil_density_mccain,\n",
    "                  \"mixture_viscosity_mccain\":mixture_viscosity_mccain,\n",
    "                  \"mixture_density_mccain\":mixture_density_mccain},\n",
    "          \"ex2\":{\"p_wf\":p_wf,\n",
    "                  \"q_liq_vlp\":list(q_liq_vlp),\n",
    "                  \"p_wf_vlp\": list(p_wf_vlp)},\n",
    "          \"ex3\": {\"h\":h,\"flow_pattern\":flow_pattern}\n",
    "          }\n",
    "with open('result2.json', 'wb') as f:\n",
    "    json.dump(result, codecs.getwriter('utf-8')(f), ensure_ascii=False)\n"
   ]
  },
  {
   "cell_type": "code",
   "execution_count": null,
   "metadata": {},
   "outputs": [],
   "source": []
  }
 ],
 "metadata": {
  "kernelspec": {
   "display_name": "Python 3",
   "language": "python",
   "name": "python3"
  },
  "language_info": {
   "codemirror_mode": {
    "name": "ipython",
    "version": 3
   },
   "file_extension": ".py",
   "mimetype": "text/x-python",
   "name": "python",
   "nbconvert_exporter": "python",
   "pygments_lexer": "ipython3",
   "version": "3.6.5"
  }
 },
 "nbformat": 4,
 "nbformat_minor": 4
}
